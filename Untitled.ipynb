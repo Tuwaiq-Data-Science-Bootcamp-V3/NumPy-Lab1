{
 "cells": [
  {
   "cell_type": "code",
   "execution_count": 3,
   "id": "6b625d99",
   "metadata": {},
   "outputs": [],
   "source": [
    "import numpy as np"
   ]
  },
  {
   "cell_type": "markdown",
   "id": "9180915f",
   "metadata": {},
   "source": [
    "# Q#1: Create x array with elements equal to 1."
   ]
  },
  {
   "cell_type": "code",
   "execution_count": 4,
   "id": "1d83cbb7",
   "metadata": {},
   "outputs": [
    {
     "name": "stdout",
     "output_type": "stream",
     "text": [
      "[[1. 1. 1.]\n",
      " [1. 1. 1.]\n",
      " [1. 1. 1.]]\n"
     ]
    }
   ],
   "source": [
    "x = np.ones((3, 3))\n",
    "print(x)"
   ]
  },
  {
   "cell_type": "markdown",
   "id": "03c08dc8",
   "metadata": {},
   "source": [
    "# Q#2: Create y array with elements equal to 0."
   ]
  },
  {
   "cell_type": "code",
   "execution_count": 5,
   "id": "634960ef",
   "metadata": {},
   "outputs": [
    {
     "name": "stdout",
     "output_type": "stream",
     "text": [
      "[[0. 0. 0.]\n",
      " [0. 0. 0.]\n",
      " [0. 0. 0.]]\n"
     ]
    }
   ],
   "source": [
    "y = np.zeros((3, 3))\n",
    "print(y)"
   ]
  },
  {
   "cell_type": "markdown",
   "id": "69087781",
   "metadata": {},
   "source": [
    "# Q#3: Add x and y arrays."
   ]
  },
  {
   "cell_type": "code",
   "execution_count": 6,
   "id": "6119723f",
   "metadata": {},
   "outputs": [
    {
     "name": "stdout",
     "output_type": "stream",
     "text": [
      "[[1. 1. 1.]\n",
      " [1. 1. 1.]\n",
      " [1. 1. 1.]]\n"
     ]
    }
   ],
   "source": [
    "xy = x + y  \n",
    "print(xy) "
   ]
  },
  {
   "cell_type": "markdown",
   "id": "a802da0c",
   "metadata": {},
   "source": [
    "# Q#4: Print x array characteristics (e.g: dimension, shape, size, type)."
   ]
  },
  {
   "cell_type": "code",
   "execution_count": 8,
   "id": "857582de",
   "metadata": {},
   "outputs": [
    {
     "name": "stdout",
     "output_type": "stream",
     "text": [
      "float64\n",
      "2\n",
      "(3, 3)\n",
      "9\n"
     ]
    }
   ],
   "source": [
    "print(x.dtype)\n",
    "print(x.ndim)\n",
    "print(x.shape)\n",
    "print(x.size)"
   ]
  },
  {
   "cell_type": "markdown",
   "id": "c662336f",
   "metadata": {},
   "source": [
    "## Q#5: Create a 2D array \"called w\" as the following:\n",
    "\n",
    "|       |          |\n",
    "| ----- | -------- |\n",
    "| 11    | 12       |\n",
    "| 13    | 14       |\n",
    "| 15    | 16       |\n"
   ]
  },
  {
   "cell_type": "code",
   "execution_count": 16,
   "id": "b0ff75ca",
   "metadata": {},
   "outputs": [
    {
     "name": "stdout",
     "output_type": "stream",
     "text": [
      "(3, 2)\n",
      "[[11 12]\n",
      " [13 14]\n",
      " [13 14]]\n"
     ]
    }
   ],
   "source": [
    "w = np.array(\n",
    "    [\n",
    "        [11, 12], \n",
    "        [13, 14],\n",
    "        [13, 14],\n",
    "    ])\n",
    "print(w.shape)\n",
    "print(w)"
   ]
  },
  {
   "cell_type": "markdown",
   "id": "b1059d3b",
   "metadata": {},
   "source": [
    "# Q#6: Create z array contains the numbers from 1 to 3."
   ]
  },
  {
   "cell_type": "code",
   "execution_count": 11,
   "id": "070d3df0",
   "metadata": {},
   "outputs": [
    {
     "name": "stdout",
     "output_type": "stream",
     "text": [
      "[1 2 3]\n"
     ]
    }
   ],
   "source": [
    "z = np.array([1, 2, 3])\n",
    "print(z)"
   ]
  },
  {
   "cell_type": "markdown",
   "id": "828746ad",
   "metadata": {},
   "source": [
    "# Q#7: Combine the arrays z and w in horizontal way then save it in a new variable \"newArray\"."
   ]
  },
  {
   "cell_type": "code",
   "execution_count": 31,
   "id": "29a98226",
   "metadata": {},
   "outputs": [
    {
     "name": "stdout",
     "output_type": "stream",
     "text": [
      "[[ 1 11 12]\n",
      " [ 2 13 14]\n",
      " [ 3 13 14]]\n"
     ]
    }
   ],
   "source": [
    "z = np.array([1, 2, 3])\n",
    "w = np.array([\n",
    "    [11, 12], \n",
    "    [13, 14],\n",
    "    [13, 14],\n",
    "])\n",
    "\n",
    "z_reshaped = z.reshape(-1, 1) \n",
    "newArray = np.hstack((z_reshaped, w))   \n",
    "print(newArray)"
   ]
  },
  {
   "cell_type": "markdown",
   "id": "944e80c9",
   "metadata": {},
   "source": [
    "# Q#8: Print all elements of \"newArray\" using the loop."
   ]
  },
  {
   "cell_type": "code",
   "execution_count": 34,
   "id": "dd73eb43",
   "metadata": {},
   "outputs": [
    {
     "name": "stdout",
     "output_type": "stream",
     "text": [
      "1\n",
      "11\n",
      "12\n",
      "2\n",
      "13\n",
      "14\n",
      "3\n",
      "13\n",
      "14\n"
     ]
    }
   ],
   "source": [
    "for row in newArray:\n",
    "    for item in row:\n",
    "        print(item)"
   ]
  },
  {
   "cell_type": "markdown",
   "id": "191bd01b",
   "metadata": {},
   "source": [
    "# Q#9: Reverse the columns and rows of \"newArray\"."
   ]
  },
  {
   "cell_type": "code",
   "execution_count": 35,
   "id": "33dc5997",
   "metadata": {},
   "outputs": [
    {
     "name": "stdout",
     "output_type": "stream",
     "text": [
      "[[14 13  3]\n",
      " [14 13  2]\n",
      " [12 11  1]]\n"
     ]
    }
   ],
   "source": [
    "newArray_reversed = newArray[::-1, ::-1] \n",
    "print(newArray_reversed)"
   ]
  },
  {
   "cell_type": "markdown",
   "id": "b032405d",
   "metadata": {},
   "source": [
    "# Q#10: Decrement all elements of \"newArray\" with 1."
   ]
  },
  {
   "cell_type": "code",
   "execution_count": 36,
   "id": "1fccafc8",
   "metadata": {},
   "outputs": [
    {
     "name": "stdout",
     "output_type": "stream",
     "text": [
      "[[ 0 10 11]\n",
      " [ 1 12 13]\n",
      " [ 2 12 13]]\n"
     ]
    }
   ],
   "source": [
    "newArray = newArray - 1\n",
    "print(newArray)"
   ]
  },
  {
   "cell_type": "markdown",
   "id": "25bb2b51",
   "metadata": {},
   "source": [
    "# Q#11: Find smallest and biggest values in \"newArray\"."
   ]
  },
  {
   "cell_type": "code",
   "execution_count": 39,
   "id": "574c9f2a",
   "metadata": {},
   "outputs": [
    {
     "name": "stdout",
     "output_type": "stream",
     "text": [
      "Smallest value: 0\n",
      "Largest value: 13\n"
     ]
    }
   ],
   "source": [
    "smallest_value = np.amin(newArray)\n",
    "largest_value = np.amax(newArray)\n",
    "\n",
    "print(\"Smallest value:\", smallest_value)\n",
    "print(\"Largest value:\", largest_value)"
   ]
  },
  {
   "cell_type": "markdown",
   "id": "de36d134",
   "metadata": {},
   "source": [
    "# Q#12: Print the first row of \"newArray\" using indexing."
   ]
  },
  {
   "cell_type": "code",
   "execution_count": 40,
   "id": "7fb86c4c",
   "metadata": {},
   "outputs": [
    {
     "name": "stdout",
     "output_type": "stream",
     "text": [
      "First row: [ 0 10 11]\n"
     ]
    }
   ],
   "source": [
    "first_row = newArray[0, :]\n",
    "print(\"First row:\", first_row)"
   ]
  },
  {
   "cell_type": "markdown",
   "id": "46b9618a",
   "metadata": {},
   "source": [
    "# Q#13: Print the number equals 12 of \"newArray\" using indexing."
   ]
  },
  {
   "cell_type": "code",
   "execution_count": 42,
   "id": "208c806e",
   "metadata": {},
   "outputs": [
    {
     "name": "stdout",
     "output_type": "stream",
     "text": [
      "Value 12: 10\n"
     ]
    }
   ],
   "source": [
    "value_12 = newArray[0, 1]\n",
    "print(\"Value 12:\", value_12)"
   ]
  },
  {
   "cell_type": "markdown",
   "id": "69adb894",
   "metadata": {},
   "source": [
    "# Q#14: Print the numbers equal 0 and 13 of \"newArray\" using indexing."
   ]
  },
  {
   "cell_type": "code",
   "execution_count": 44,
   "id": "4989a954",
   "metadata": {},
   "outputs": [
    {
     "name": "stdout",
     "output_type": "stream",
     "text": [
      "Value 0: 12\n",
      "Value 13: [1 2]\n"
     ]
    }
   ],
   "source": [
    "value_0 = newArray[2, 1]\n",
    "value_13 = newArray[1:, 0]\n",
    "\n",
    "print(\"Value 0:\", value_0)\n",
    "print(\"Value 13:\", value_13)"
   ]
  },
  {
   "cell_type": "markdown",
   "id": "7a8f4ff2",
   "metadata": {},
   "source": [
    "# Q#15: Change the shape of \"newArray\" to (9,1)."
   ]
  },
  {
   "cell_type": "code",
   "execution_count": 45,
   "id": "cd4798b6",
   "metadata": {},
   "outputs": [
    {
     "name": "stdout",
     "output_type": "stream",
     "text": [
      "[[ 0]\n",
      " [10]\n",
      " [11]\n",
      " [ 1]\n",
      " [12]\n",
      " [13]\n",
      " [ 2]\n",
      " [12]\n",
      " [13]]\n"
     ]
    }
   ],
   "source": [
    "newArray_reshaped = newArray.reshape(9, 1)\n",
    "print(newArray_reshaped)"
   ]
  },
  {
   "cell_type": "code",
   "execution_count": null,
   "id": "76f97cdd",
   "metadata": {},
   "outputs": [],
   "source": []
  }
 ],
 "metadata": {
  "kernelspec": {
   "display_name": "Python 3 (ipykernel)",
   "language": "python",
   "name": "python3"
  },
  "language_info": {
   "codemirror_mode": {
    "name": "ipython",
    "version": 3
   },
   "file_extension": ".py",
   "mimetype": "text/x-python",
   "name": "python",
   "nbconvert_exporter": "python",
   "pygments_lexer": "ipython3",
   "version": "3.9.13"
  }
 },
 "nbformat": 4,
 "nbformat_minor": 5
}
